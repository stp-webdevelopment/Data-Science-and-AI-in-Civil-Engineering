{
  "metadata": {
    "kernelspec": {
      "name": "python",
      "display_name": "Python (Pyodide)",
      "language": "python"
    },
    "language_info": {
      "codemirror_mode": {
        "name": "python",
        "version": 3
      },
      "file_extension": ".py",
      "mimetype": "text/x-python",
      "name": "python",
      "nbconvert_exporter": "python",
      "pygments_lexer": "ipython3",
      "version": "3.8"
    }
  },
  "nbformat_minor": 4,
  "nbformat": 4,
  "cells": [
    {
      "cell_type": "markdown",
      "source": "# Data Science Foundations",
      "metadata": {}
    },
    {
      "cell_type": "markdown",
      "source": "## Introduction\nThis notebook provides an overview of the fundamental concepts and tools used in Data Science. It covers programming basics, essential libraries, arithmetic operations, and practical applications, offering a strong foundation for further learning in Data Science.\n",
      "metadata": {}
    },
    {
      "cell_type": "markdown",
      "source": "## Data Science Languages\nSome of the widely used languages in Data Science are:\n- Python\n- R\n- SQL\n- Julia\n- Java\n- Scala",
      "metadata": {}
    },
    {
      "cell_type": "markdown",
      "source": "## Data Science Libraries\nKey libraries for Data Science and AI include:\n- Pandas: Data manipulation and analysis\n- NumPy: Numerical computing\n- Matplotlib: Data visualization\n- Scikit-learn: Machine learning algorithms\n- TensorFlow: Deep learning\n- Keras: Neural networks\n- PyTorch: Machine learning framework\n- Seaborn: Statistical data visualization",
      "metadata": {}
    },
    {
      "cell_type": "markdown",
      "source": "## Data Science Tools\n\n| Tool           | Description                               |\n|----------------|-------------------------------------------|\n| Jupyter        | Interactive coding notebook              |\n| TensorFlow     | Open-source deep learning library        |\n| Pandas         | Data manipulation and analysis library   |\n| Scikit-learn   | Library for machine learning algorithms  |\n| Matplotlib     | Data visualization library               |\n| RStudio        | Integrated development environment for R |\n| SQL            | Language for managing databases          |\n| GitHub         | Version control and code sharing         |\n",
      "metadata": {}
    },
    {
      "cell_type": "markdown",
      "source": "## Arithmetic Expression Examples\nArithmetic expressions are the foundation of many calculations in Data Science and AI. Here, we will demonstrate simple expressions like addition, multiplication, and division.\n",
      "metadata": {}
    },
    {
      "cell_type": "code",
      "source": "# Multiplying and adding numbers\n# Example: Multiply 8 by 12, then add 10 to the result\na = 8\nb = 12\nresult = a * b + 10\nresult\n",
      "metadata": {
        "trusted": true
      },
      "outputs": [
        {
          "execution_count": 3,
          "output_type": "execute_result",
          "data": {
            "text/plain": "106"
          },
          "metadata": {}
        }
      ],
      "execution_count": 3
    },
    {
      "cell_type": "code",
      "source": "# Convert minutes to hours\n# Example: Convert 200 minutes to hours\nminutes = 200\nhours = minutes / 60\nhours\n",
      "metadata": {
        "trusted": true
      },
      "outputs": [
        {
          "execution_count": 4,
          "output_type": "execute_result",
          "data": {
            "text/plain": "3.3333333333333335"
          },
          "metadata": {}
        }
      ],
      "execution_count": 4
    },
    {
      "cell_type": "markdown",
      "source": "## Objectives\nThe main objectives of this notebook are:\n- To introduce the foundational concepts of Data Science and AI.\n- To list the key languages, libraries, and tools used in Data Science.\n- To practice arithmetic operations with examples.\n- To demonstrate how to structure a notebook effectively.\n",
      "metadata": {}
    },
    {
      "cell_type": "markdown",
      "source": "## Author\nThis notebook was created by [THANGAPERUMAL SUNDHARRAJAN].\n",
      "metadata": {}
    },
    {
      "cell_type": "code",
      "source": "",
      "metadata": {
        "trusted": true
      },
      "outputs": [],
      "execution_count": null
    }
  ]
}